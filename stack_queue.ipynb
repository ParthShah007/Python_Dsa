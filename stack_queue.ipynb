{
 "cells": [
  {
   "cell_type": "markdown",
   "id": "82d9bed0",
   "metadata": {},
   "source": [
    "Stack"
   ]
  },
  {
   "cell_type": "code",
   "execution_count": 3,
   "id": "453ca955",
   "metadata": {},
   "outputs": [],
   "source": [
    "# lifo\n",
    "class stack:\n",
    "    def __init__(self):\n",
    "        self.items = []\n",
    "    def push(self,item):\n",
    "        self.items.append(item)\n",
    "    def pop(self):\n",
    "        if not self.items:\n",
    "            return (\"Stack is empty\")\n",
    "        return self.items.pop()\n",
    "    def top(self):\n",
    "        if not self.items:\n",
    "            return (\"Stack is empty\")\n",
    "        return self.items[-1]\n",
    "    def size(self):\n",
    "        return len(self.items)\n",
    "    def is_empty(self):\n",
    "        return len(self.items) == 0"
   ]
  },
  {
   "cell_type": "code",
   "execution_count": 4,
   "id": "898c5f6d",
   "metadata": {},
   "outputs": [
    {
     "name": "stdout",
     "output_type": "stream",
     "text": [
      "3\n",
      "2\n",
      "2\n",
      "2\n",
      "1\n",
      "Stack is empty\n",
      "0\n",
      "True\n"
     ]
    }
   ],
   "source": [
    "stk = stack()\n",
    "# Example usage\n",
    "stk.push(1)\n",
    "stk.push(2)\n",
    "stk.push(3)\n",
    "print(stk.pop())  # Output: 3\n",
    "print(stk.top())  # Output: 2\n",
    "print(stk.size())  # Output: 2\n",
    "print(stk.pop())  # Output: 2\n",
    "print(stk.pop())  # Output: 1\n",
    "print(stk.pop())  # Output: Stack is empty\n",
    "print(stk.size())  # Output: 0\n",
    "print(stk.is_empty())  # Output: True\n"
   ]
  },
  {
   "cell_type": "markdown",
   "id": "bffc54e8",
   "metadata": {},
   "source": [
    "Queue"
   ]
  },
  {
   "cell_type": "code",
   "execution_count": null,
   "id": "11a689f4",
   "metadata": {},
   "outputs": [],
   "source": [
    "# fifo\n",
    "class queue:\n",
    "    def __init__(self):\n",
    "        self.items = []\n",
    "    def enqueue(self, item):\n",
    "        self.items.append(item)\n",
    "    def dequeue(self):\n",
    "        if not self.items:\n",
    "            return (\"Queue is empty\")\n",
    "        return self.items.pop(0)\n",
    "    def front(self):\n",
    "        if not self.items:\n",
    "            return (\"Queue is empty\")\n",
    "        return self.items[0]\n",
    "    def size(self):\n",
    "        return len(self.items)\n",
    "    def is_empty(self):\n",
    "        return len(self.items) == 0"
   ]
  },
  {
   "cell_type": "markdown",
   "id": "05c42118",
   "metadata": {},
   "source": [
    "Deque\n"
   ]
  },
  {
   "cell_type": "code",
   "execution_count": null,
   "id": "5d653e7a",
   "metadata": {},
   "outputs": [],
   "source": [
    "from collections import deque\n",
    "lst = deque([])\n",
    "lst.append(1)\n",
    "lst.append(2)\n",
    "lst.append(3)\n",
    "print(lst.popleft())  # Output: 1\n",
    "print(lst.popleft())  # Output: 2\n",
    "print(lst.popleft())  # Output: 3\n",
    "\n",
    "\n"
   ]
  }
 ],
 "metadata": {
  "kernelspec": {
   "display_name": "base",
   "language": "python",
   "name": "python3"
  },
  "language_info": {
   "codemirror_mode": {
    "name": "ipython",
    "version": 3
   },
   "file_extension": ".py",
   "mimetype": "text/x-python",
   "name": "python",
   "nbconvert_exporter": "python",
   "pygments_lexer": "ipython3",
   "version": "3.13.5"
  }
 },
 "nbformat": 4,
 "nbformat_minor": 5
}
