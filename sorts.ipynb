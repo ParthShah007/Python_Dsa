{
 "cells": [
  {
   "cell_type": "code",
   "execution_count": 8,
   "id": "b4bd2ee4",
   "metadata": {},
   "outputs": [
    {
     "name": "stdout",
     "output_type": "stream",
     "text": [
      "[1, 2, 3, 4, 5, 6, 7, 9]\n"
     ]
    }
   ],
   "source": [
    "\n",
    "l = [3,2,4,6,5,1,7,9]\n",
    "# Selection Sort\n",
    "for i in range(len(l)):\n",
    "    mini = i\n",
    "    for j in range(i+1, len(l)):\n",
    "        if l[j] < l[mini]:\n",
    "            mini = j\n",
    "        l[mini], l[i] = l[i], l[mini]\n",
    "print(l)\n",
    "        \n",
    "\n"
   ]
  },
  {
   "cell_type": "code",
   "execution_count": null,
   "id": "3ee615c1",
   "metadata": {},
   "outputs": [
    {
     "name": "stdout",
     "output_type": "stream",
     "text": [
      "[9, 7, 6, 5, 4, 3, 2, 1]\n"
     ]
    }
   ],
   "source": [
    "# Bubble Sort\n",
    "l = [3,2,4,6,5,1,7,9]\n",
    "for i in range(len(l)):\n",
    "    for j in range(0, len(l)-1):\n",
    "        if l[j] < l[j+1]:\n",
    "            l[j], l[j+1] = l[j+1], l[j]\n",
    "print(l)"
   ]
  },
  {
   "cell_type": "code",
   "execution_count": null,
   "id": "671878a2",
   "metadata": {},
   "outputs": [],
   "source": [
    "# Insertion Sort\n"
   ]
  },
  {
   "cell_type": "code",
   "execution_count": null,
   "id": "b852a932",
   "metadata": {},
   "outputs": [],
   "source": []
  }
 ],
 "metadata": {
  "kernelspec": {
   "display_name": "Python 3",
   "language": "python",
   "name": "python3"
  },
  "language_info": {
   "codemirror_mode": {
    "name": "ipython",
    "version": 3
   },
   "file_extension": ".py",
   "mimetype": "text/x-python",
   "name": "python",
   "nbconvert_exporter": "python",
   "pygments_lexer": "ipython3",
   "version": "3.12.4"
  }
 },
 "nbformat": 4,
 "nbformat_minor": 5
}
