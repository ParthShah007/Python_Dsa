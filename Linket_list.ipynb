{
 "cells": [
  {
   "cell_type": "markdown",
   "id": "631233c2",
   "metadata": {},
   "source": [
    "# Singly Linked List"
   ]
  },
  {
   "cell_type": "code",
   "execution_count": 1,
   "id": "f4be3779",
   "metadata": {},
   "outputs": [
    {
     "name": "stdout",
     "output_type": "stream",
     "text": [
      "5\n",
      "<__main__.Node object at 0x000001CB947F0B90>\n",
      "<__main__.Node object at 0x000001CB947F0B90>\n",
      "15\n"
     ]
    }
   ],
   "source": [
    "class Node:\n",
    "    def __init__(self, val):\n",
    "        self.val = val\n",
    "        self.next = None\n",
    "\n",
    "n1 = Node(5)\n",
    "n2 = Node(10)\n",
    "n3 = Node(15)\n",
    "\n",
    "n1.next = n2\n",
    "n2.next = n3\n",
    "n3.next = None\n",
    "\n",
    "print(n1.val)\n",
    "print(n1.next)\n",
    "print(n2)\n",
    "print(n1.next.next.val)"
   ]
  },
  {
   "cell_type": "code",
   "execution_count": null,
   "id": "cad68f06",
   "metadata": {},
   "outputs": [
    {
     "name": "stdout",
     "output_type": "stream",
     "text": [
      "1 2 3 4 "
     ]
    }
   ],
   "source": [
    "class Node:\n",
    "    def __init__(self, val):\n",
    "        self.val = val\n",
    "        self.next = None\n",
    "\n",
    "class SinglyLinkedList:\n",
    "    def __init__(self, val = None):\n",
    "        if val is not None:\n",
    "            self.head = Node(val)\n",
    "        else:\n",
    "            self.head = None\n",
    "\n",
    "    def append(self, val):\n",
    "        new_node = Node(val)\n",
    "        if self.head is None:\n",
    "            self.head = new_node\n",
    "        else:\n",
    "            curr = self.head\n",
    "            while curr.next is not None:\n",
    "                curr = curr.next\n",
    "            curr.next = new_node\n",
    "\n",
    "    def traversal(self):\n",
    "        if self.head is None:\n",
    "            print(\"SLL is empty\")\n",
    "        else:\n",
    "            curr = self.head\n",
    "            while curr is not None:    # TC - o(N), SC - o(1)\n",
    "                print(curr.val, end=\" \")\n",
    "                curr = curr.next\n",
    "\n",
    "    def insert(self,val, posi):\n",
    "        new_node = Node(val)\n",
    "        if posi == 1:\n",
    "            new_node.next = self.head\n",
    "            self.head = new_node\n",
    "        else:\n",
    "            prev = None\n",
    "            curr = self.head\n",
    "            c = 1\n",
    "            while curr is not None and c < posi:\n",
    "                prev = curr\n",
    "                curr = curr.next\n",
    "                c += 1\n",
    "            prev.next = new_node\n",
    "            new_node.next = curr\n",
    "\n",
    "        def delete(self, val):    \n",
    "            if self.head is not None:\n",
    "                if self.head.val == val:\n",
    "                    self.head = self.head.next\n",
    "                    return\n",
    "            while self.head is not None:\n",
    "            \n",
    "            \n",
    "sll = SinglyLinkedList(1)\n",
    "sll.append(2)\n",
    "sll.append(4)\n",
    "sll.insert(3, 3)\n",
    "sll.traversal()\n",
    "        \n"
   ]
  }
 ],
 "metadata": {
  "kernelspec": {
   "display_name": "base",
   "language": "python",
   "name": "python3"
  },
  "language_info": {
   "codemirror_mode": {
    "name": "ipython",
    "version": 3
   },
   "file_extension": ".py",
   "mimetype": "text/x-python",
   "name": "python",
   "nbconvert_exporter": "python",
   "pygments_lexer": "ipython3",
   "version": "3.13.5"
  }
 },
 "nbformat": 4,
 "nbformat_minor": 5
}
